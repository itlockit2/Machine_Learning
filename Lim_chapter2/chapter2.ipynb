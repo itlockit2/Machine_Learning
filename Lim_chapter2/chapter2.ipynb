{
 "cells": [
  {
   "cell_type": "markdown",
   "metadata": {},
   "source": [
    "## 기계 학습을 사용해서 Super Mario Maker의 레벨 제작하기"
   ]
  },
  {
   "cell_type": "markdown",
   "metadata": {},
   "source": [
    "## 좀더 영리하게 추측하기\n",
    "주택의 속성을 기반으로 주택 가치를 추정하는 알고리즘을 만든다고 가정하자.\n",
    "속성을 아래와 같다.\n",
    "\n",
    "<img src=\"https://cdn-images-1.medium.com/max/800/1*tzN3MZMnGMjAX59GGnsPMQ.png\" alt=\"Drawing\" style=\"width: 500px;\"/>\n",
    "\n",
    "이러한 속성들을 이용해서 다음과 같은 알고리즘을 작성할 수 있다.\n",
    "\n",
    "<pre><code>def estimate_house_sales_price(num_of_bedrooms, sqft, neighborhood):\n",
    " price = 0\n",
    "# 이건 한 꼬집 넣고\n",
    " price += num_of_bedrooms * 0.123\n",
    "# 그리고 저건 한 스픈 정도 넣고\n",
    " price += sqft * 0.41\n",
    "# 이건 아마도 한 줌 넣고\n",
    " price += neighborhood * 0.57\n",
    "return price\n",
    "</code></pre>\n",
    "\n",
    "즉, 우리는 각 속성에 가중치를 곱하여 주택 가격을 추정할 수 있다.\n",
    "그래프로 나타내면 아래와 같다. \n",
    "\n",
    "<img src=\"https://cdn-images-1.medium.com/max/1000/1*ysIi2_QSIgZIOsznFFBi2w.png\" alt=\"Drawing\" style=\"width: 500px;\"/>\n",
    "\n",
    "하지만 이러한 알고리즘은 입력데이터와 결과 사이에 선형(Linear) 관계가 있는\n",
    "단순한 문제에 대해서만 동작한다. 하지만 주택 가격이 실제로 그렇게 단순하지\n",
    "않다. 큰 주택에서는 이웃이 크게 중요할 수 있지만, 작은 주택에서는 이웃이 크게\n",
    "중요하지 않을 수 있다. 이러한 경우를 고려해 서로 다른 가중치를 사용하여\n",
    "알고리즘을 작성할 수 있다.\n",
    "\n",
    "<img src=\"https://cdn-images-1.medium.com/max/1000/1*M8HIvJD1zqGobowxbDPEkg.png\" alt=\"Drawing\" style=\"width: 500px;\"/>\n",
    "\n",
    "이렇게 서로 다른 네가지의 가격 추정 알고리즘을 최종 예측 하나로 결합시킬 수 있다.\n",
    "\n",
    "<img src=\"https://cdn-images-1.medium.com/max/1000/1*ztrtvgUGfEXEdSlAoDKyVw.png\" alt=\"Drawing\" style=\"width: 500px;\"/>\n",
    "\n",
    "위와같은 형태의 그래프를 신경망(Neural Network)라고 부른다."
   ]
  },
  {
   "cell_type": "markdown",
   "metadata": {},
   "source": [
    "## 신경망(Neural Network)란 무엇일까?\n",
    "지금까지 했던 그래프를 하나로 결합시켜 보자.\n",
    "\n",
    "<img src=\"https://cdn-images-1.medium.com/max/1000/1*GkHwF2dInQET_SL8r-BfbA.png\" alt=\"Drawing\" style=\"width: 500px;\"/>\n",
    "\n",
    "이것이 바로 신경망이다. 각 노드는 일련의 입력을 받아들여 가중치를 적용하고,\n",
    "출력 값을 계산하는 방식이다.이렇게 많은 노드들을 서로 연결함으로써, 복잡한\n",
    "문제를 모델링 할 수 있다."
   ]
  },
  {
   "cell_type": "markdown",
   "metadata": {},
   "source": [
    "## 신경망(Neural Network)에 메모리 주기\n",
    "앞서 우리가 본 신경망은 동일한 입력을 주면 항상 같은 결과를 반환한다.\n",
    "메모리(기억장치)가 없기 때문이다. 프로그래밍 용어로 말하면, 이것은\n",
    "상태 비저장 알고리즘(stateless algorithm)이다.\n",
    "\n",
    "따라서 우리의 모델은 아마 다음과 같을 것이다.\n",
    "\n",
    "<img src=\"https://cdn-images-1.medium.com/max/800/1*4oHvA2epDM8tDKWcZj_r5w.png\" alt=\"Drawing\" style=\"width: 500px;\"/>\n",
    "\n",
    "하지만 만약 우리 모델에서 상태를 기록할 수 있다면 다음 글자를 예측하는 것 또한 가능하다\n",
    "마치 휴대전화 키보드에 있는 자동예측 기능처럼\n",
    "\n",
    "<img src=\"https://cdn-images-1.medium.com/max/800/1*MJM6hsMHCIT4nOvSLeV1lg.png\" alt=\"Drawing\" style=\"width: 500px;\"/>"
   ]
  },
  {
   "cell_type": "markdown",
   "metadata": {},
   "source": [
    "## 이야기 만들기\n",
    "단어를 예측할 수 있다면 문장을 예측하는것 또한 가능하다 이를 위해,\n",
    "Andrej Karpathy가 작성한 순환 신경망 구현(Recurrent Neural Network implementation)을 사용할 것이다.\n",
    "이를 이용하면 글자 다음 글자가 어떤글자가 나오는지를 예측하는 단순한 알고리즘이지만\n",
    "문장을 예측할 수 있고 그로 인해 산문을 해밍웨이가 쓴것같은 산문을 재현하는것 또한 가능하다."
   ]
  }
 ],
 "metadata": {
  "kernelspec": {
   "display_name": "Python 3",
   "language": "python",
   "name": "python3"
  },
  "language_info": {
   "codemirror_mode": {
    "name": "ipython",
    "version": 3
   },
   "file_extension": ".py",
   "mimetype": "text/x-python",
   "name": "python",
   "nbconvert_exporter": "python",
   "pygments_lexer": "ipython3",
   "version": "3.6.5"
  }
 },
 "nbformat": 4,
 "nbformat_minor": 2
}
