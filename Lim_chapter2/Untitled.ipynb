{
 "cells": [
  {
   "cell_type": "markdown",
   "metadata": {},
   "source": [
    "## 기계 학습을 사용해서 Super Mario Maker의 레벨 제작하기"
   ]
  },
  {
   "cell_type": "markdown",
   "metadata": {},
   "source": [
    "## 좀더 영리하게 추측하기\n",
    "주택의 속성을 기반으로 주택 가치를 추정하는 알고리즘을 만든다고 가정하자.\n",
    "속성을 아래와 같다.\n",
    "\n",
    "<img src=\"https://cdn-images-1.medium.com/max/800/1*tzN3MZMnGMjAX59GGnsPMQ.png\" alt=\"Drawing\" style=\"width: 500px;\"/>\n",
    "\n",
    "이러한 속성들을 이용해서 다음과 같은 알고리즘을 작성할 수 있다.\n"
   ]
  }
 ],
 "metadata": {
  "kernelspec": {
   "display_name": "Python 3",
   "language": "python",
   "name": "python3"
  },
  "language_info": {
   "codemirror_mode": {
    "name": "ipython",
    "version": 3
   },
   "file_extension": ".py",
   "mimetype": "text/x-python",
   "name": "python",
   "nbconvert_exporter": "python",
   "pygments_lexer": "ipython3",
   "version": "3.6.5"
  }
 },
 "nbformat": 4,
 "nbformat_minor": 2
}
