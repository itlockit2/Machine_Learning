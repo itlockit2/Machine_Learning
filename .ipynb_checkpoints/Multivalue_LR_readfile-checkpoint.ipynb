{
 "cells": [
  {
   "cell_type": "code",
   "execution_count": 2,
   "metadata": {},
   "outputs": [],
   "source": [
    "import tensorflow as tf\n",
    "import pandas as pd\n",
    "import numpy as np"
   ]
  },
  {
   "cell_type": "code",
   "execution_count": 17,
   "metadata": {},
   "outputs": [
    {
     "name": "stdout",
     "output_type": "stream",
     "text": [
      "[[ nan  80.  75.  nan]\n",
      " [ nan  88.  93.  nan]\n",
      " [ nan  91.  90.  nan]\n",
      " [ nan  98. 100.  nan]\n",
      " [ nan  66.  70.  nan]\n",
      " [ nan  46.  55.  nan]\n",
      " [ nan  74.  77.  nan]\n",
      " [ nan  56.  60.  nan]\n",
      " [ nan  79.  90.  nan]\n",
      " [ nan  70.  88.  nan]\n",
      " [ nan  70.  73.  nan]\n",
      " [ nan  65.  74.  nan]\n",
      " [ nan  95.  91.  nan]\n",
      " [ nan  80.  73.  nan]\n",
      " [ nan  73.  78.  nan]\n",
      " [ nan  89.  96.  nan]\n",
      " [ nan  75.  68.  nan]\n",
      " [ nan  90.  93.  nan]\n",
      " [ nan  92.  86.  nan]\n",
      " [ nan  83.  77.  nan]\n",
      " [ nan  86.  90.  nan]\n",
      " [ nan  82.  89.  nan]\n",
      " [ nan  83.  85.  nan]\n",
      " [ nan  83.  71.  nan]\n",
      " [ nan  93.  95.  nan]]\n"
     ]
    }
   ],
   "source": [
    "xy = pd.read_csv('./Data/data_01_test_score.csv', delimiter=',')\n",
    "x_data = xy\n",
    "y_data = xy[:,[-1]]\n",
    "\n",
    "# Make sure the shape and data are OK\n",
    "print(x_data)\n",
    "#print(x_data.shape, x_data, len(x_data))\n",
    "#print(y_data.shape, y_data)"
   ]
  },
  {
   "cell_type": "code",
   "execution_count": null,
   "metadata": {},
   "outputs": [],
   "source": []
  },
  {
   "cell_type": "code",
   "execution_count": null,
   "metadata": {},
   "outputs": [],
   "source": []
  }
 ],
 "metadata": {
  "kernelspec": {
   "display_name": "Python 3",
   "language": "python",
   "name": "python3"
  },
  "language_info": {
   "codemirror_mode": {
    "name": "ipython",
    "version": 3
   },
   "file_extension": ".py",
   "mimetype": "text/x-python",
   "name": "python",
   "nbconvert_exporter": "python",
   "pygments_lexer": "ipython3",
   "version": "3.6.5"
  }
 },
 "nbformat": 4,
 "nbformat_minor": 2
}
