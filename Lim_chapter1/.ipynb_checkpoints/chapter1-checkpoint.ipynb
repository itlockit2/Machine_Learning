{
 "cells": [
  {
   "cell_type": "markdown",
   "metadata": {},
   "source": [
    "# 기계 학습(Machine Learning)이란 무엇인가?\n",
    "기계학습은 문제를 해결하기 위한 맞춤 코드(Custom code)를 작성하지 않고도\n",
    "일련의 데이터에 대해 무언가 흥미로운 것을 알려줄 수 있는 일반 알고리즘(Generic Algorithms)\n",
    "이 있다는 아이디어입니다."
   ]
  },
  {
   "cell_type": "markdown",
   "metadata": {},
   "source": [
    "## 두 종류의 기계 학습 알고리즘\n",
    "기계 학습 알고리즘은 지도 학습(Supervised learning)과 비지도 학습(Unsupervised learning)의\n",
    "두 가지 주요 범주 중 하나로 분류될 수 있다.\n",
    "\n",
    "### 지도학습(Supervised Learning)\n",
    "지도 학습은 데이터에 대한 레이블 즉 명시적인 정답이 주어진 상태에서 컴퓨터를\n",
    "학습시키는 방법이다. 즉 데이터, 레이블 형태로 학습을 진행하는 방법이다. \n",
    "### 비지도 학습(Unsupervised Learning)\n",
    "비지도 학습은 데이터에 대한 레이블 명시적인 정답이 주어지지 상태에서 \n",
    "컴퓨터를 학습시키는 방법이다. 즉 레이블 없이 데이터 형태로 학습을 진행하는 방법이다.\n",
    "예로는 클러스터링(Clustering) 알고리즘이 있다.\n",
    "\n",
    "## 지도학습 방법\n",
    "지도학습에서 가장 중요한것은 비용을 줄이는 것이다.\n",
    "### 비용 함수(Cost Function)\n",
    "예측값과 실제값의 차를 제곱하여 그 평균값을 이용해서 비용즉 에러를 구한다.\n",
    "\n",
    "<img src=\"https://cdn-images-1.medium.com/max/1000/1*bdODyxl1KZQvFlgPLi1eDw.png\" alt=\"Drawing\" style=\"width: 500px;\"/>\n",
    "\n",
    "위 식을 기계 학습의 수학 용어를 사용하여 정리를 할 수 있다.\n",
    "\n",
    "<img src=\"https://cdn-images-1.medium.com/max/1000/1*hMcuz-MkrxMK7Xuzlb2s3w.png\" alt=\"Drawing\" style=\"width: 500px;\"/>\n",
    "\n",
    "θ는 현재 가중치를 나타냅니다. J(θ)는 ‘현재 가중치의 비용’ 을 의미합니다.\n",
    "그래프로 표현하면 아래와 같은 그림으로 나타낼 수 있다.\n",
    "\n",
    "<img src=\"https://cdn-images-1.medium.com/max/1000/1*-MrEhKUkNooLEz8shErBcg.png\" alt=\"Drawing\" style=\"width: 500px;\"/>\n",
    "\n",
    "이제 그래프에서 가장 낮은 지점을 향해 \"언덕을 걸어 내려 갈 수 있도록\" 우리의 가중치를\n",
    "조정해야 합니다. 미적분을 이용해서 함수를 미분하면 함수의 특정 지점에 대한 접선의 \n",
    "기울기를 구할 수 있다. 다시 말해서, 미분을 통해 그래프의 특정 지점에 대해\n",
    "내리막 길이 어느 방향인지 알 수 있다.\n"
   ]
  },
  {
   "cell_type": "code",
   "execution_count": null,
   "metadata": {},
   "outputs": [],
   "source": []
  }
 ],
 "metadata": {
  "kernelspec": {
   "display_name": "Python 3",
   "language": "python",
   "name": "python3"
  },
  "language_info": {
   "codemirror_mode": {
    "name": "ipython",
    "version": 3
   },
   "file_extension": ".py",
   "mimetype": "text/x-python",
   "name": "python",
   "nbconvert_exporter": "python",
   "pygments_lexer": "ipython3",
   "version": "3.6.5"
  }
 },
 "nbformat": 4,
 "nbformat_minor": 2
}
