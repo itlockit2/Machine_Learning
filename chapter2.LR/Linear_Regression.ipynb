{
 "cells": [
  {
   "cell_type": "code",
   "execution_count": 2,
   "metadata": {},
   "outputs": [
    {
     "name": "stderr",
     "output_type": "stream",
     "text": [
      "C:\\Users\\Yun\\Anaconda3\\lib\\site-packages\\h5py\\__init__.py:36: FutureWarning: Conversion of the second argument of issubdtype from `float` to `np.floating` is deprecated. In future, it will be treated as `np.float64 == np.dtype(float).type`.\n",
      "  from ._conv import register_converters as _register_converters\n"
     ]
    }
   ],
   "source": [
    "import tensorflow as tf"
   ]
  },
  {
   "cell_type": "code",
   "execution_count": 5,
   "metadata": {},
   "outputs": [
    {
     "name": "stdout",
     "output_type": "stream",
     "text": [
      "0 14.606235 [-0.38827568] [-0.87329274]\n",
      "200 0.00265158 [1.0598063] [-0.13595422]\n",
      "400 0.0010124947 [1.0369567] [-0.08401124]\n",
      "600 0.00038662078 [1.022837] [-0.05191392]\n",
      "800 0.00014762912 [1.0141119] [-0.03207959]\n",
      "1000 5.6371642e-05 [1.0087202] [-0.01982308]\n",
      "1200 2.1524907e-05 [1.0053886] [-0.01224941]\n",
      "1400 8.219974e-06 [1.0033299] [-0.00756953]\n",
      "1600 3.1392094e-06 [1.0020578] [-0.00467785]\n",
      "1800 1.1992267e-06 [1.0012718] [-0.00289113]\n",
      "2000 4.5837405e-07 [1.0007865] [-0.00178741]\n"
     ]
    }
   ],
   "source": [
    "# X and Y Data\n",
    "x_train = [1,2,3]\n",
    "y_train = [1,2,3]\n",
    "\n",
    "W = tf.Variable(tf.random_normal([1]), name = 'weight')\n",
    "b = tf.Variable(tf.random_normal([1]), name = 'bias')\n",
    "\n",
    "# Our hypothesis WX + b\n",
    "hypothesis = x_train* W + b\n",
    "\n",
    "# cost/loss function\n",
    "cost = tf.reduce_mean(tf.square(hypothesis - y_train))\n",
    "\n",
    "# Minimize\n",
    "optimizer = tf.train.GradientDescentOptimizer(learning_rate = 0.01)\n",
    "train = optimizer.minimize(cost)\n",
    "\n",
    "# Launch the graph in a session\n",
    "sess = tf.Session()\n",
    "\n",
    "# Initializes global variables in the graph\n",
    "sess.run(tf.global_variables_initializer())\n",
    "\n",
    "# Fit the line\n",
    "for step in range(2001):\n",
    "    sess.run(train)\n",
    "    if step % 200 == 0:\n",
    "        print(step, sess.run(cost), sess.run(W), sess.run(b))"
   ]
  },
  {
   "cell_type": "code",
   "execution_count": 6,
   "metadata": {},
   "outputs": [
    {
     "name": "stdout",
     "output_type": "stream",
     "text": [
      "0 1.1190246 [1.5920761] [-0.33447087]\n",
      "200 0.10421443 [1.2088773] [0.34588683]\n",
      "400 0.026890546 [1.106103] [0.716935]\n",
      "600 0.00693859 [1.0538968] [0.9054153]\n",
      "800 0.0017903676 [1.0273777] [1.0011574]\n",
      "1000 0.00046196178 [1.0139068] [1.0497917]\n",
      "1200 0.000119201955 [1.0070642] [1.0744957]\n",
      "1400 3.0757492e-05 [1.0035884] [1.0870446]\n",
      "1600 7.936567e-06 [1.001823] [1.0934188]\n",
      "1800 2.0486154e-06 [1.0009261] [1.0966566]\n",
      "2000 5.290275e-07 [1.0004706] [1.0983008]\n",
      "[6.100654]\n",
      "[3.5994773]\n",
      "[2.5990067 4.599948 ]\n"
     ]
    }
   ],
   "source": [
    "W = tf.Variable(tf.random_normal([1]), name = 'weight')\n",
    "b = tf.Variable(tf.random_normal([1]), name = 'bias')\n",
    "X_data = tf.placeholder(tf.float32, shape = [None])\n",
    "Y_data = tf.placeholder(tf.float32, shape = [None])\n",
    "\n",
    "# Our hypothesis WX + b\n",
    "hypothesis = X_data* W + b\n",
    "\n",
    "# cost/loss function\n",
    "cost = tf.reduce_mean(tf.square(hypothesis - Y_data))\n",
    "\n",
    "# Minimize\n",
    "optimizer = tf.train.GradientDescentOptimizer(learning_rate = 0.01)\n",
    "train = optimizer.minimize(cost)\n",
    "\n",
    "# Launch the graph in a session\n",
    "sess = tf.Session()\n",
    "\n",
    "# Initializes global variables in the graph\n",
    "sess.run(tf.global_variables_initializer())\n",
    "\n",
    "# Fit the line\n",
    "for step in range(2001):\n",
    "    cost_val, W_val, b_val, _ = sess.run([cost, W, b, train], feed_dict={X_data : [1,2,3,4,5], Y_data : [2.1,3.1,4.1,5.1,6.1] } )\n",
    "    if step % 200 == 0:\n",
    "        print(step, cost_val, W_val, b_val)\n",
    "\n",
    "# Testing our model\n",
    "print(sess.run(hypothesis, feed_dict={X_data : [5]}))\n",
    "print(sess.run(hypothesis, feed_dict={X_data : [2.5]}))\n",
    "print(sess.run(hypothesis, feed_dict={X_data : [1.5, 3.5]}))"
   ]
  },
  {
   "cell_type": "code",
   "execution_count": null,
   "metadata": {},
   "outputs": [],
   "source": []
  }
 ],
 "metadata": {
  "kernelspec": {
   "display_name": "Python 3",
   "language": "python",
   "name": "python3"
  },
  "language_info": {
   "codemirror_mode": {
    "name": "ipython",
    "version": 3
   },
   "file_extension": ".py",
   "mimetype": "text/x-python",
   "name": "python",
   "nbconvert_exporter": "python",
   "pygments_lexer": "ipython3",
   "version": "3.6.5"
  }
 },
 "nbformat": 4,
 "nbformat_minor": 2
}
