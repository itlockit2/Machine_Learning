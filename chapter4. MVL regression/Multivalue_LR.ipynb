{
 "cells": [
  {
   "cell_type": "code",
   "execution_count": 6,
   "metadata": {},
   "outputs": [
    {
     "name": "stderr",
     "output_type": "stream",
     "text": [
      "C:\\Users\\Yun\\Anaconda3\\lib\\site-packages\\h5py\\__init__.py:36: FutureWarning: Conversion of the second argument of issubdtype from `float` to `np.floating` is deprecated. In future, it will be treated as `np.float64 == np.dtype(float).type`.\n",
      "  from ._conv import register_converters as _register_converters\n"
     ]
    }
   ],
   "source": [
    "import tensorflow as tf"
   ]
  },
  {
   "cell_type": "code",
   "execution_count": 1,
   "metadata": {},
   "outputs": [],
   "source": [
    "# Data set\n",
    "x1_data = [73., 93., 89., 96., 73.]\n",
    "x2_data = [80., 88., 91., 98., 66.]\n",
    "x3_data = [75., 93., 90., 100., 70.]\n",
    "y_data = [152., 185., 180., 196., 142.]"
   ]
  },
  {
   "cell_type": "code",
   "execution_count": 7,
   "metadata": {},
   "outputs": [],
   "source": [
    "# placeholders for a tensor that will be always fed.\n",
    "x1 = tf.placeholder(tf.float32)\n",
    "x2 = tf.placeholder(tf.float32)\n",
    "x3 = tf.placeholder(tf.float32)\n",
    "y = tf.placeholder(tf.float32)\n",
    "\n",
    "w1 = tf.Variable(tf.random_normal([1]), name='weight1')\n",
    "w2 = tf.Variable(tf.random_normal([1]), name='weight2')\n",
    "w3 = tf.Variable(tf.random_normal([1]), name='weight3')\n",
    "b = tf.Variable(tf.random_normal([1]), name='bias')\n",
    "\n",
    "hypothesis = x1 * w1 + x2 * w2 + x3 * w3 + b"
   ]
  },
  {
   "cell_type": "code",
   "execution_count": 8,
   "metadata": {},
   "outputs": [],
   "source": [
    "# cost/loss function\n",
    "cost = tf.reduce_mean(tf.square(hypothesis - y))\n",
    "# Minimize Need a very small learning rate for this data set\n",
    "optimizer = tf.train.GradientDescentOptimizer(learning_rate = 1e-5)\n",
    "train = optimizer.minimize(cost)"
   ]
  },
  {
   "cell_type": "code",
   "execution_count": 10,
   "metadata": {},
   "outputs": [
    {
     "name": "stdout",
     "output_type": "stream",
     "text": [
      "0 cost =  3847.6118 \n",
      "hypothesis =\n",
      " [204.96532 252.09868 245.81715 263.80103 196.78708]\n",
      "100 cost =  6.6539717 \n",
      "hypothesis =\n",
      " [150.05132 185.95337 180.7167  192.90778 146.29977]\n",
      "200 cost =  6.4323225 \n",
      "hypothesis =\n",
      " [150.12442 185.9025  180.73814 192.9308  146.22664]\n",
      "300 cost =  6.221816 \n",
      "hypothesis =\n",
      " [150.19548 185.85301 180.75896 192.95337 146.15538]\n",
      "400 cost =  6.021821 \n",
      "hypothesis =\n",
      " [150.26457 185.80489 180.77914 192.97548 146.08592]\n",
      "500 cost =  5.831794 \n",
      "hypothesis =\n",
      " [150.33177 185.7581  180.79878 192.99715 146.01822]\n",
      "600 cost =  5.651223 \n",
      "hypothesis =\n",
      " [150.39703 185.7126  180.81783 193.01839 145.95221]\n",
      "700 cost =  5.4796157 \n",
      "hypothesis =\n",
      " [150.46048 185.66833 180.83629 193.03918 145.88786]\n",
      "800 cost =  5.316514 \n",
      "hypothesis =\n",
      " [150.52217 185.62534 180.85425 193.05959 145.82515]\n",
      "900 cost =  5.161393 \n",
      "hypothesis =\n",
      " [150.58209 185.58345 180.87161 193.07956 145.76396]\n",
      "1000 cost =  5.014005 \n",
      "hypothesis =\n",
      " [150.6404  185.5428  180.88855 193.09917 145.70439]\n",
      "1100 cost =  4.8737397 \n",
      "hypothesis =\n",
      " [150.69699 185.50322 180.90492 193.11841 145.64626]\n",
      "1200 cost =  4.740356 \n",
      "hypothesis =\n",
      " [150.75203 185.46477 180.92085 193.13728 145.5896 ]\n",
      "1300 cost =  4.6134505 \n",
      "hypothesis =\n",
      " [150.80545 185.42734 180.93623 193.15573 145.5343 ]\n",
      "1400 cost =  4.4926887 \n",
      "hypothesis =\n",
      " [150.85745 185.39102 180.95123 193.17392 145.48045]\n",
      "1500 cost =  4.377797 \n",
      "hypothesis =\n",
      " [150.90794 185.35565 180.96577 193.1917  145.42792]\n",
      "1600 cost =  4.26837 \n",
      "hypothesis =\n",
      " [150.95697 185.32126 180.97983 193.20914 145.37665]\n",
      "1700 cost =  4.1642027 \n",
      "hypothesis =\n",
      " [151.00465 185.28786 180.99352 193.2263  145.3267 ]\n",
      "1800 cost =  4.064974 \n",
      "hypothesis =\n",
      " [151.05098 185.25539 181.00677 193.24315 145.27798]\n",
      "1900 cost =  3.970494 \n",
      "hypothesis =\n",
      " [151.09598 185.22385 181.01965 193.25967 145.23048]\n",
      "2000 cost =  3.8804073 \n",
      "hypothesis =\n",
      " [151.13968 185.19315 181.0321  193.27591 145.18413]\n"
     ]
    }
   ],
   "source": [
    "# Launch the graph in a session\n",
    "sess = tf.Session()\n",
    "# Initializes global variables in the graph\n",
    "sess.run(tf.global_variables_initializer())\n",
    "for step in range(2001):\n",
    "    cost_val, hy_val, _ = sess.run([cost, hypothesis, train],\n",
    "                                  feed_dict={x1: x1_data, x2: x2_data, x3: x3_data, y:y_data})\n",
    "    if step % 100 == 0:\n",
    "        print(step, \"cost = \", cost_val, \"\\nhypothesis =\\n\", hy_val)"
   ]
  },
  {
   "cell_type": "code",
   "execution_count": null,
   "metadata": {},
   "outputs": [],
   "source": []
  }
 ],
 "metadata": {
  "kernelspec": {
   "display_name": "Python 3",
   "language": "python",
   "name": "python3"
  },
  "language_info": {
   "codemirror_mode": {
    "name": "ipython",
    "version": 3
   },
   "file_extension": ".py",
   "mimetype": "text/x-python",
   "name": "python",
   "nbconvert_exporter": "python",
   "pygments_lexer": "ipython3",
   "version": "3.6.5"
  }
 },
 "nbformat": 4,
 "nbformat_minor": 2
}
