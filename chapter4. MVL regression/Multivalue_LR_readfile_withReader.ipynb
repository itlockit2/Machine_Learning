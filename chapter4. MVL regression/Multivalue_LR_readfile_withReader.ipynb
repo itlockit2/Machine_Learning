{
 "cells": [
  {
   "cell_type": "code",
   "execution_count": 1,
   "metadata": {},
   "outputs": [
    {
     "name": "stderr",
     "output_type": "stream",
     "text": [
      "/home/banana/anaconda3/lib/python3.6/site-packages/h5py/__init__.py:36: FutureWarning: Conversion of the second argument of issubdtype from `float` to `np.floating` is deprecated. In future, it will be treated as `np.float64 == np.dtype(float).type`.\n",
      "  from ._conv import register_converters as _register_converters\n"
     ]
    }
   ],
   "source": [
    "import tensorflow as tf\n",
    "tf.set_random_seed(777)  # for reproducibility"
   ]
  },
  {
   "cell_type": "code",
   "execution_count": 2,
   "metadata": {},
   "outputs": [],
   "source": [
    "filename_queue = tf.train.string_input_producer(\n",
    "    ['./Data/data-01-test-score.csv'], shuffle=False, name='filename_queue')\n",
    "\n",
    "reader = tf.TextLineReader()\n",
    "key, value = reader.read(filename_queue)"
   ]
  },
  {
   "cell_type": "code",
   "execution_count": 3,
   "metadata": {},
   "outputs": [],
   "source": [
    "# Default values, in case of empty columns. Also specified the type of the\n",
    "# Decoded result\n",
    "record_defaults = [[0.], [0.], [0.], [0.]]\n",
    "xy = tf.decode_csv(value, record_defaults=record_defaults)"
   ]
  },
  {
   "cell_type": "code",
   "execution_count": 4,
   "metadata": {},
   "outputs": [],
   "source": [
    "# collect batches of csv in\n",
    "train_x_batch, train_y_batch = \\\n",
    "    tf.train.batch([xy[0:-1], xy[-1:]], batch_size=10)"
   ]
  },
  {
   "cell_type": "code",
   "execution_count": 5,
   "metadata": {},
   "outputs": [],
   "source": [
    "# placeholders for a tensor that will be always fed\n",
    "X = tf.placeholder(tf.float32, shape=[None, 3])\n",
    "Y = tf.placeholder(tf.float32, shape=[None, 1])\n",
    "\n",
    "W = tf.Variable(tf.random_normal([3, 1]), name='weight')\n",
    "b = tf.Variable(tf.random_normal([1]), name='bias')"
   ]
  },
  {
   "cell_type": "code",
   "execution_count": 6,
   "metadata": {},
   "outputs": [],
   "source": [
    "# Hypothesis\n",
    "hypothesis = tf.matmul(X,W)+ b\n",
    "# Simplified cost/loss function\n",
    "cost = tf.reduce_mean(tf.square(hypothesis - Y))"
   ]
  },
  {
   "cell_type": "code",
   "execution_count": 7,
   "metadata": {},
   "outputs": [],
   "source": [
    "# Minimize\n",
    "optimizer = tf.train.GradientDescentOptimizer(learning_rate=1e-5)\n",
    "train = optimizer.minimize(cost)"
   ]
  },
  {
   "cell_type": "code",
   "execution_count": 8,
   "metadata": {},
   "outputs": [],
   "source": [
    "# Launch the graph in a session\n",
    "sess = tf.Session()\n",
    "# Initializes global variables in the graph\n",
    "sess.run(tf.global_variables_initializer())"
   ]
  },
  {
   "cell_type": "code",
   "execution_count": 9,
   "metadata": {},
   "outputs": [],
   "source": [
    "# Start populating the filename queue.\n",
    "coord = tf.train.Coordinator()\n",
    "threads = tf.train.start_queue_runners(sess=sess, coord=coord)"
   ]
  },
  {
   "cell_type": "code",
   "execution_count": 11,
   "metadata": {},
   "outputs": [
    {
     "name": "stdout",
     "output_type": "stream",
     "text": [
      "0 Cost = 5.068313 \n",
      "Prediction\n",
      " [[143.81348]\n",
      " [142.34375]\n",
      " [186.70724]\n",
      " [153.6984 ]\n",
      " [151.129  ]\n",
      " [188.37973]\n",
      " [145.21925]\n",
      " [180.98343]\n",
      " [177.76506]\n",
      " [159.16788]]\n",
      "200 Cost = 5.0490837 \n",
      "Prediction\n",
      " [[143.82059]\n",
      " [142.37614]\n",
      " [186.6643 ]\n",
      " [153.63585]\n",
      " [151.15433]\n",
      " [188.39603]\n",
      " [145.14697]\n",
      " [181.00778]\n",
      " [177.71472]\n",
      " [159.12225]]\n",
      "400 Cost = 5.034847 \n",
      "Prediction\n",
      " [[143.82713]\n",
      " [142.4055 ]\n",
      " [186.62497]\n",
      " [153.57841]\n",
      " [151.1778 ]\n",
      " [188.41066]\n",
      " [145.0803 ]\n",
      " [181.03078]\n",
      " [177.66872]\n",
      " [159.08066]]\n",
      "600 Cost = 5.0247407 \n",
      "Prediction\n",
      " [[143.83325]\n",
      " [142.43213]\n",
      " [186.58896]\n",
      " [153.52571]\n",
      " [151.19958]\n",
      " [188.42383]\n",
      " [145.0188 ]\n",
      " [181.05258]\n",
      " [177.62675]\n",
      " [159.0428 ]]\n",
      "800 Cost = 5.0179496 \n",
      "Prediction\n",
      " [[143.83893]\n",
      " [142.45628]\n",
      " [186.55598]\n",
      " [153.47731]\n",
      " [151.21983]\n",
      " [188.43567]\n",
      " [144.96208]\n",
      " [181.07321]\n",
      " [177.58842]\n",
      " [159.00832]]\n",
      "1000 Cost = 5.0137987 \n",
      "Prediction\n",
      " [[143.8442 ]\n",
      " [142.47813]\n",
      " [186.52577]\n",
      " [153.43285]\n",
      " [151.2386 ]\n",
      " [188.4463 ]\n",
      " [144.90968]\n",
      " [181.09276]\n",
      " [177.55342]\n",
      " [158.97693]]\n",
      "1200 Cost = 5.011815 \n",
      "Prediction\n",
      " [[143.84908]\n",
      " [142.49794]\n",
      " [186.49812]\n",
      " [153.39201]\n",
      " [151.25603]\n",
      " [188.45583]\n",
      " [144.86131]\n",
      " [181.11127]\n",
      " [177.52147]\n",
      " [158.94835]]\n",
      "1400 Cost = 5.0115786 \n",
      "Prediction\n",
      " [[143.85364]\n",
      " [142.51588]\n",
      " [186.47281]\n",
      " [153.35452]\n",
      " [151.27228]\n",
      " [188.46439]\n",
      " [144.81665]\n",
      " [181.12881]\n",
      " [177.49231]\n",
      " [158.92233]]\n",
      "1600 Cost = 5.012665 \n",
      "Prediction\n",
      " [[143.8579 ]\n",
      " [142.5321 ]\n",
      " [186.44958]\n",
      " [153.32004]\n",
      " [151.28735]\n",
      " [188.47203]\n",
      " [144.77536]\n",
      " [181.14545]\n",
      " [177.46567]\n",
      " [158.89865]]\n",
      "1800 Cost = 5.0148168 \n",
      "Prediction\n",
      " [[143.86185]\n",
      " [142.5468 ]\n",
      " [186.42834]\n",
      " [153.28835]\n",
      " [151.30139]\n",
      " [188.47888]\n",
      " [144.73721]\n",
      " [181.16121]\n",
      " [177.44136]\n",
      " [158.8771 ]]\n",
      "2000 Cost = 5.0177336 \n",
      "Prediction\n",
      " [[143.8655 ]\n",
      " [142.56004]\n",
      " [186.40883]\n",
      " [153.25917]\n",
      " [151.3144 ]\n",
      " [188.48497]\n",
      " [144.7019 ]\n",
      " [181.1761 ]\n",
      " [177.41914]\n",
      " [158.85747]]\n"
     ]
    }
   ],
   "source": [
    "for step in range(2001):\n",
    "    x_batch, y_batch = sess.run([train_x_batch, train_y_batch])\n",
    "    cost_val, hy_bal, _ = sess.run([cost, hypothesis, train],\n",
    "                                  feed_dict={X:x_batch, Y:y_batch})\n",
    "    if step % 200 == 0:\n",
    "        print(step, \"Cost =\", cost_val, \"\\nPrediction\\n\", hy_bal)\n",
    "        \n",
    "coord.request_stop()\n",
    "coord.join(threads)"
   ]
  },
  {
   "cell_type": "code",
   "execution_count": null,
   "metadata": {},
   "outputs": [],
   "source": []
  },
  {
   "cell_type": "code",
   "execution_count": null,
   "metadata": {},
   "outputs": [],
   "source": []
  }
 ],
 "metadata": {
  "kernelspec": {
   "display_name": "Python 3",
   "language": "python",
   "name": "python3"
  },
  "language_info": {
   "codemirror_mode": {
    "name": "ipython",
    "version": 3
   },
   "file_extension": ".py",
   "mimetype": "text/x-python",
   "name": "python",
   "nbconvert_exporter": "python",
   "pygments_lexer": "ipython3",
   "version": "3.6.5"
  }
 },
 "nbformat": 4,
 "nbformat_minor": 2
}
