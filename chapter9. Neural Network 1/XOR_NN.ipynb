{
 "cells": [
  {
   "cell_type": "code",
   "execution_count": 5,
   "metadata": {},
   "outputs": [],
   "source": [
    "import tensorflow as tf\n",
    "import numpy as np"
   ]
  },
  {
   "cell_type": "code",
   "execution_count": 3,
   "metadata": {},
   "outputs": [],
   "source": [
    "x_data = [[0, 0],\n",
    "          [0, 1],\n",
    "          [1, 0],\n",
    "          [1, 1]]\n",
    "y_data = [[0],\n",
    "          [1],\n",
    "          [1],\n",
    "          [0]]\n",
    "x_data = np.array(x_data, dtype=np.float32)\n",
    "y_data = np.array(y_data, dtype=np.float32)"
   ]
  },
  {
   "cell_type": "code",
   "execution_count": 10,
   "metadata": {},
   "outputs": [],
   "source": [
    "X = tf.placeholder(tf.float32)\n",
    "Y = tf.placeholder(tf.float32)\n",
    "\n",
    "W1 = tf.Variable(tf.random_normal([2,2]), name=\"weight1\")\n",
    "b1 = tf.Variable(tf.random_normal([2]), name=\"bias1\")\n",
    "layer1 = tf.sigmoid(tf.matmul(X, W1) + b1)\n",
    "W2 = tf.Variable(tf.random_normal([2,1]), name=\"weight2\")\n",
    "b2 = tf.Variable(tf.random_normal([1]), name=\"bias2\")\n"
   ]
  },
  {
   "cell_type": "code",
   "execution_count": 12,
   "metadata": {},
   "outputs": [],
   "source": [
    "# Hypothesis using sigmoid\n",
    "hypothesis = tf.sigmoid(tf.matmul(layer1, W2) + b2)\n",
    "# cost/loss function\n",
    "cost = -tf.reduce_mean(Y * tf.log(hypothesis) + (1- Y) * tf.log(1-hypothesis))\n",
    "train = tf.train.GradientDescentOptimizer(learning_rate=0.1).minimize(cost)"
   ]
  },
  {
   "cell_type": "code",
   "execution_count": 14,
   "metadata": {},
   "outputs": [
    {
     "name": "stdout",
     "output_type": "stream",
     "text": [
      "0 0.69702685 [array([[-0.38789597,  0.21575883],\n",
      "       [ 1.9200051 , -0.4112273 ]], dtype=float32), array([[ 0.55605114],\n",
      "       [-0.1234052 ]], dtype=float32)]\n",
      "1000 0.6933025 [array([[-0.36731094,  0.2141137 ],\n",
      "       [ 1.7514209 , -0.39805788]], dtype=float32), array([[0.14789486],\n",
      "       [0.02840265]], dtype=float32)]\n",
      "2000 0.6931011 [array([[-0.41244382,  0.21333414],\n",
      "       [ 1.7053494 , -0.40540534]], dtype=float32), array([[0.0837281 ],\n",
      "       [0.07005885]], dtype=float32)]\n",
      "3000 0.6928803 [array([[-0.4897692 ,  0.2124745 ],\n",
      "       [ 1.6603508 , -0.41691902]], dtype=float32), array([[0.13346586],\n",
      "       [0.08949652]], dtype=float32)]\n",
      "4000 0.6899519 [array([[-0.7929044 ,  0.21506368],\n",
      "       [ 1.5629996 , -0.43951455]], dtype=float32), array([[0.4000359 ],\n",
      "       [0.11622462]], dtype=float32)]\n",
      "5000 0.64444584 [array([[-2.0822804 ,  0.26928145],\n",
      "       [ 1.9855412 , -0.52536625]], dtype=float32), array([[1.6795975],\n",
      "       [0.2537487]], dtype=float32)]\n",
      "6000 0.49693316 [array([[-3.880228 ,  1.0083696],\n",
      "       [ 3.5359397, -1.3961823]], dtype=float32), array([[3.621894 ],\n",
      "       [1.4521078]], dtype=float32)]\n",
      "7000 0.16063184 [array([[-4.9769883,  3.3126838],\n",
      "       [ 4.8168488, -3.7112682]], dtype=float32), array([[5.5331283],\n",
      "       [4.916339 ]], dtype=float32)]\n",
      "8000 0.06892248 [array([[-5.5142593,  4.333349 ],\n",
      "       [ 5.4007688, -4.6897473]], dtype=float32), array([[6.869132],\n",
      "       [6.739748]], dtype=float32)]\n",
      "9000 0.0420241 [array([[-5.824941 ,  4.817328 ],\n",
      "       [ 5.7084603, -5.159283 ]], dtype=float32), array([[7.725002 ],\n",
      "       [7.7239275]], dtype=float32)]\n",
      "10000 0.02984919 [array([[-6.035599 ,  5.1184163],\n",
      "       [ 5.910244 , -5.4522843]], dtype=float32), array([[8.337295],\n",
      "       [8.385029]], dtype=float32)]\n",
      "\n",
      "hypothesis\n",
      " [[0.03461415]\n",
      " [0.97488993]\n",
      " [0.9717539 ]\n",
      " [0.02963785]] \n",
      "predicted\n",
      " [[0.]\n",
      " [1.]\n",
      " [1.]\n",
      " [0.]] \n",
      "accuracy\n",
      " 1.0\n"
     ]
    }
   ],
   "source": [
    "# Accuracy computation\n",
    "# True if hypothesis > 0.5\n",
    "predicted = tf.cast(hypothesis > 0.5, dtype=tf.float32)\n",
    "accuracy = tf.reduce_mean(tf.cast(tf.equal(predicted, Y), dtype=tf.float32))\n",
    "\n",
    "# Launch graph\n",
    "with tf.Session() as sess:\n",
    "    # Initialize Tensorflow\n",
    "    sess.run(tf.global_variables_initializer())\n",
    "    \n",
    "    for step in range(10001):\n",
    "        sess.run(train, feed_dict={X: x_data, Y: y_data})\n",
    "        if step % 1000 == 0:\n",
    "            print(step, sess.run(cost, feed_dict={X : x_data, Y: y_data}), sess.run([W1,W2]))\n",
    "    # Accuracy report\n",
    "    h, c, a = sess.run([hypothesis, predicted, accuracy], feed_dict={X: x_data, Y: y_data})\n",
    "    print(\"\\nhypothesis\\n\", h, \"\\npredicted\\n\", c , \"\\naccuracy\\n\" , a)"
   ]
  },
  {
   "cell_type": "code",
   "execution_count": null,
   "metadata": {},
   "outputs": [],
   "source": []
  }
 ],
 "metadata": {
  "kernelspec": {
   "display_name": "Python 3",
   "language": "python",
   "name": "python3"
  },
  "language_info": {
   "codemirror_mode": {
    "name": "ipython",
    "version": 3
   },
   "file_extension": ".py",
   "mimetype": "text/x-python",
   "name": "python",
   "nbconvert_exporter": "python",
   "pygments_lexer": "ipython3",
   "version": "3.6.5"
  }
 },
 "nbformat": 4,
 "nbformat_minor": 2
}
