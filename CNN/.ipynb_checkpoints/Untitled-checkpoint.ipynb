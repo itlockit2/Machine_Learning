{
 "cells": [
  {
   "cell_type": "code",
   "execution_count": 40,
   "metadata": {},
   "outputs": [],
   "source": [
    "import tensorflow as tf\n",
    "## 디렉토리 경로 호출\n",
    "import os\n",
    "## 이미지 파일 로드\n",
    "import cv2\n",
    "import numpy as np\n",
    "# 문자로된 폴더 리스트를 수자형 array로 변환\n",
    "from sklearn.preprocessing import LabelEncoder\n",
    "## OneHotEncode할때 사용\n",
    "from sklearn.preprocessing import OneHotEncoder\n",
    "from numpy import array\n",
    "from numpy import shape\n",
    "import glob\n",
    "from PIL import Image"
   ]
  },
  {
   "cell_type": "code",
   "execution_count": 51,
   "metadata": {},
   "outputs": [],
   "source": [
    "# train 이미지 데이터셋의 경로를 지정합니다.\n",
    "TRAIN_DIR = \"./MsCeleb/MsCelebV1-DevSet1/aligned\"\n",
    "TEST_DIR = \"./MsCeleb/MsCelebV1-DevSet2/aligned\"\n",
    "train_folder_list = array(os.listdir(TRAIN_DIR))\n",
    "train_input = []\n",
    "train_label = []\n",
    "\n",
    "def imageprepare(argv):\n",
    "    im = Image.open(argv).convert('L')\n",
    "    tv = list(im.getdata())  # 픽셀 데이터로 변환\n",
    "    return tv"
   ]
  },
  {
   "cell_type": "code",
   "execution_count": null,
   "metadata": {},
   "outputs": [],
   "source": []
  }
 ],
 "metadata": {
  "kernelspec": {
   "display_name": "Python 3",
   "language": "python",
   "name": "python3"
  },
  "language_info": {
   "codemirror_mode": {
    "name": "ipython",
    "version": 3
   },
   "file_extension": ".py",
   "mimetype": "text/x-python",
   "name": "python",
   "nbconvert_exporter": "python",
   "pygments_lexer": "ipython3",
   "version": "3.6.5"
  }
 },
 "nbformat": 4,
 "nbformat_minor": 2
}
