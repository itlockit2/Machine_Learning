{
 "cells": [
  {
   "cell_type": "code",
   "execution_count": 1,
   "metadata": {},
   "outputs": [
    {
     "name": "stderr",
     "output_type": "stream",
     "text": [
      "/home/banana/anaconda3/lib/python3.6/site-packages/h5py/__init__.py:36: FutureWarning: Conversion of the second argument of issubdtype from `float` to `np.floating` is deprecated. In future, it will be treated as `np.float64 == np.dtype(float).type`.\n",
      "  from ._conv import register_converters as _register_converters\n"
     ]
    }
   ],
   "source": [
    "import tensorflow as tf\n",
    "import numpy as np\n",
    "import os\n",
    "from numpy import array\n",
    "from numpy import shape\n",
    "from PIL import Image\n",
    "from sklearn.preprocessing import OneHotEncoder"
   ]
  },
  {
   "cell_type": "code",
   "execution_count": 2,
   "metadata": {},
   "outputs": [
    {
     "name": "stdout",
     "output_type": "stream",
     "text": [
      "(500, 96, 96, 3)\n",
      "(500, 500)\n",
      "(500, 96, 96, 3)\n",
      "(500, 500)\n"
     ]
    }
   ],
   "source": [
    "ohe = OneHotEncoder(n_values=500)\n",
    "\n",
    "TRAIN_DIR = \"/home/banana/Machine_Learning/CNN/MsCeleb/MsCelebV1-DevSet1/aligned/\"\n",
    "TEST_DIR = \"/home/banana/Machine_Learning/CNN/MsCeleb/MsCelebV1-DevSet2/aligned/\"\n",
    "\n",
    "train_folder_list = array(os.listdir(TRAIN_DIR))\n",
    "test_folder_list = array(os.listdir(TEST_DIR))\n",
    "\n",
    "train_data = []\n",
    "train_label = []\n",
    "\n",
    "for i in range(len(train_folder_list)):\n",
    "    with open(TRAIN_DIR + train_folder_list[i], \"rb\") as file:\n",
    "        img = Image.open(file)\n",
    "        img.convert(\"RGB\")\n",
    "        img = img.resize((96,96))\n",
    "        data = np.asarray(img)\n",
    "        train_data.append(data)\n",
    "        train_label.append(i)\n",
    "        \n",
    "test_data = []\n",
    "test_label = []\n",
    "test = []\n",
    "for i in range(len(test_folder_list)):\n",
    "    with open(TEST_DIR + test_folder_list[i], \"rb\") as file:\n",
    "        img = Image.open(file)\n",
    "        img.convert(\"RGB\")\n",
    "        img = img.resize((96,96))\n",
    "        data = np.asarray(img)\n",
    "        test_data.append(data)\n",
    "        test_label.append(i)\n",
    "        \n",
    "train_data = np.array(train_data)\n",
    "train_label = np.array(train_label)\n",
    "train_label = ohe.fit_transform(train_label.reshape(-1, 1)).toarray()\n",
    "test_data = np.array(test_data)\n",
    "test_label = np.array(test_label)\n",
    "test_label = ohe.fit_transform(test_label.reshape(-1, 1)).toarray()\n",
    "\n",
    "print(shape(train_data))\n",
    "print(shape(train_label))\n",
    "print(shape(test_data))\n",
    "print(shape(test_label))"
   ]
  },
  {
   "cell_type": "code",
   "execution_count": 3,
   "metadata": {},
   "outputs": [],
   "source": [
    "# hyper parameters\n",
    "learning_rate = 0.001\n",
    "training_epochs = 15\n",
    "batch_size = 100\n",
    "# dropout (keep_prob) rate  0.7~0.5 on training, but should be 1 for testing\n",
    "keep_prob = tf.placeholder(tf.float32)\n",
    "\n",
    "# input place holders\n",
    "X = tf.placeholder(tf.float32, [None, 96,96,3])\n",
    "Y = tf.placeholder(tf.float32, [None, 500])"
   ]
  },
  {
   "cell_type": "code",
   "execution_count": 4,
   "metadata": {},
   "outputs": [],
   "source": [
    "# L1 ImgIn shape=(?, 96, 96, 3)\n",
    "W1 = tf.Variable(tf.random_normal([3, 3, 3, 32], stddev=0.01))\n",
    "#    Conv     -> (?, 96, 96, 32)\n",
    "#    Pool     -> (?, 48, 48, 32)\n",
    "L1 = tf.nn.conv2d(X, W1, strides=[1, 1, 1, 1], padding='SAME')\n",
    "L1 = tf.nn.relu(L1)\n",
    "L1 = tf.nn.max_pool(L1, ksize=[1, 2, 2, 1], strides=[1, 2, 2, 1], padding='SAME')\n",
    "L1 = tf.nn.dropout(L1, keep_prob=keep_prob)\n",
    "\n",
    "# L2 ImgIn shape=(?, 48, 48, 32)\n",
    "W2 = tf.Variable(tf.random_normal([3, 3, 32, 64], stddev=0.01))\n",
    "#    Conv      ->(?, 48, 48, 64)\n",
    "#    Pool      ->(?, 24, 24, 64)\n",
    "L2 = tf.nn.conv2d(L1, W2, strides=[1, 1, 1, 1], padding='SAME')\n",
    "L2 = tf.nn.relu(L2)\n",
    "L2 = tf.nn.max_pool(L2, ksize=[1, 2, 2, 1],strides=[1, 2, 2, 1], padding='SAME')\n",
    "L2 = tf.nn.dropout(L2, keep_prob=keep_prob)\n",
    "\n",
    "# L3 ImgIn shape=(?, 24, 24, 64)\n",
    "W3 = tf.Variable(tf.random_normal([3, 3, 64, 128], stddev=0.01))\n",
    "#    Conv      ->(?, 24, 24, 64)\n",
    "#    Pool      ->(?, 12, 12, 128)\n",
    "L3 = tf.nn.conv2d(L2, W3, strides=[1, 1, 1, 1], padding='SAME')\n",
    "L3 = tf.nn.relu(L3)\n",
    "L3 = tf.nn.max_pool(L3, ksize=[1, 2, 2, 1],strides=[1, 2, 2, 1], padding='SAME')\n",
    "L3 = tf.nn.dropout(L3, keep_prob=keep_prob)\n",
    "\n",
    "# L4 ImgIn shape=(?, 12, 12, 128)\n",
    "W4 = tf.Variable(tf.random_normal([3, 3, 128, 128], stddev=0.01))\n",
    "#    Conv      ->(?, 12, 12, 128)\n",
    "#    Pool      ->(?, 6, 6, 128)\n",
    "L4 = tf.nn.conv2d(L3, W4, strides=[1, 1, 1, 1], padding='SAME')\n",
    "L4 = tf.nn.relu(L4)\n",
    "L4 = tf.nn.max_pool(L4, ksize=[1, 2, 2, 1],strides=[1, 2, 2, 1], padding='SAME')\n",
    "L4 = tf.nn.dropout(L4, keep_prob=keep_prob)\n",
    "\n",
    "# FC\n",
    "L4 = tf.reshape(L4, [-1,6*6*128])\n",
    "W5 = tf.get_variable(\"W5\", shape=[6*6*128,500],\n",
    "                     initializer=tf.contrib.layers.xavier_initializer())\n",
    "b = tf.Variable(tf.random_normal([500]))\n",
    "hypothesis = tf.matmul(L4,W5) + b"
   ]
  },
  {
   "cell_type": "code",
   "execution_count": 5,
   "metadata": {},
   "outputs": [],
   "source": [
    "# define cost/loss & optimizer\n",
    "cost = tf.reduce_mean(tf.nn.softmax_cross_entropy_with_logits_v2(logits=hypothesis, \n",
    "                                                              labels=train_label))\n",
    "optimizer = tf.train.AdamOptimizer(learning_rate=learning_rate).minimize(cost)"
   ]
  },
  {
   "cell_type": "code",
   "execution_count": null,
   "metadata": {},
   "outputs": [],
   "source": [
    "with tf.Session() as sess:\n",
    "    # Initialize\n",
    "    sess.run(tf.global_variables_initializer())\n",
    "    for epoch in range(training_epochs):\n",
    "        avg_cost = 0\n",
    "        for i in range(len(train_folder_list)):\n",
    "            feed_dict = {X: train_data , Y : train_label, keep_prob : 0.7}\n",
    "            c, _ = sess.run([cost,optimizer], feed_dict=feed_dict)\n",
    "        print(\"Epoch = \" , epoch , \" cost = \", cost)\n",
    "    # Test model\n",
    "    correct_prediction = tf.equal(tf.argmax(logits, 1), tf.argmax(Y, 1))\n",
    "    accuracy = tf.reduce_mean(tf.cast(correct_prediction, tf.float32))\n",
    "    print('Accuracy:', sess.run(accuracy, feed_dict={\n",
    "    X: test_data, Y: test_label, keep_prob: 1}))\n"
   ]
  },
  {
   "cell_type": "code",
   "execution_count": null,
   "metadata": {},
   "outputs": [],
   "source": []
  }
 ],
 "metadata": {
  "kernelspec": {
   "display_name": "Python 3",
   "language": "python",
   "name": "python3"
  },
  "language_info": {
   "codemirror_mode": {
    "name": "ipython",
    "version": 3
   },
   "file_extension": ".py",
   "mimetype": "text/x-python",
   "name": "python",
   "nbconvert_exporter": "python",
   "pygments_lexer": "ipython3",
   "version": "3.6.5"
  }
 },
 "nbformat": 4,
 "nbformat_minor": 2
}
