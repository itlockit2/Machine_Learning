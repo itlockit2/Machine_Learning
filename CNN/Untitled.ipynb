{
 "cells": [
  {
   "cell_type": "code",
   "execution_count": 53,
   "metadata": {},
   "outputs": [],
   "source": [
    "import tensorflow as tf\n",
    "## 디렉토리 경로 호출\n",
    "import os\n",
    "## 이미지 파일 로드\n",
    "import cv2\n",
    "import numpy as np\n",
    "# 문자로된 폴더 리스트를 수자형 array로 변환\n",
    "from sklearn.preprocessing import LabelEncoder\n",
    "## OneHotEncode할때 사용\n",
    "from sklearn.preprocessing import OneHotEncoder\n",
    "from numpy import array\n",
    "from numpy import shape\n",
    "import glob\n",
    "from PIL import Image"
   ]
  },
  {
   "cell_type": "code",
   "execution_count": 58,
   "metadata": {},
   "outputs": [
    {
     "name": "stdout",
     "output_type": "stream",
     "text": [
      "m.08gfnp.jpg\n"
     ]
    },
    {
     "data": {
      "text/plain": [
       "(51450, 3)"
      ]
     },
     "execution_count": 58,
     "metadata": {},
     "output_type": "execute_result"
    }
   ],
   "source": [
    "class Model:\n",
    "    def _init__(self, sess, name):\n",
    "        self.sess = sess\n",
    "        self.name = name\n",
    "        self._build_net()\n",
    "    def _build_net(self):\n",
    "        with tf.variable_scope(self.name):\n",
    "            # dropout (keep_prob) rate 0.5 ~ 0.7\n",
    "            self.training = tf.placeholder(tf.bool)\n",
    "            # input place holders\n",
    "            self.X = tf.placeholder(tf.float32,[None,64,64,3])\n",
    "            self.Y = tf.placeholder(tf.float32,[None,500])\n",
    "            \n",
    "            # Convolutional Layer #1\n",
    "            conv1 = tf.layers.conv2d()\n"
   ]
  },
  {
   "cell_type": "code",
   "execution_count": null,
   "metadata": {},
   "outputs": [],
   "source": [
    "# train 이미지 데이터셋의 경로를 지정합니다.\n",
    "TRAIN_DIR = \"./MsCeleb/MsCelebV1-DevSet1/aligned\"\n",
    "TEST_DIR = \"./MsCeleb/MsCelebV1-DevSet2/aligned\"\n",
    "train_folder_list = array(os.listdir(TRAIN_DIR))\n",
    "train_input = []\n",
    "train_label = []\n",
    "print(train_folder_list[0])\n",
    "\n",
    "def imageprepare(argv):\n",
    "    im = Image.open(argv).convert('RGB')\n",
    "    pixel_data = im.getdata()\n",
    "    pixels = np.array(pixel_data)\n",
    "    return pixels\n",
    "test = imageprepare(TRAIN_DIR + \"/\" + train_folder_list[0])\n",
    "shape(test)"
   ]
  },
  {
   "cell_type": "code",
   "execution_count": null,
   "metadata": {},
   "outputs": [],
   "source": []
  }
 ],
 "metadata": {
  "kernelspec": {
   "display_name": "Python 3",
   "language": "python",
   "name": "python3"
  },
  "language_info": {
   "codemirror_mode": {
    "name": "ipython",
    "version": 3
   },
   "file_extension": ".py",
   "mimetype": "text/x-python",
   "name": "python",
   "nbconvert_exporter": "python",
   "pygments_lexer": "ipython3",
   "version": "3.6.6"
  }
 },
 "nbformat": 4,
 "nbformat_minor": 2
}
