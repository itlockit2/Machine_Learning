{
 "cells": [
  {
   "cell_type": "code",
   "execution_count": 42,
   "metadata": {},
   "outputs": [],
   "source": [
    "import tensorflow as tf\n",
    "import numpy as np\n",
    "import pandas as pd\n",
    "from numpy import shape\n",
    "from sklearn.utils import shuffle"
   ]
  },
  {
   "cell_type": "code",
   "execution_count": 54,
   "metadata": {},
   "outputs": [
    {
     "name": "stdout",
     "output_type": "stream",
     "text": [
      "[[  1   2   3   4   5   6   7   8]\n",
      " [  9  10  11  12  13  14  15  16]\n",
      " [ 17  18  19  20  21  22  23  24]\n",
      " [ 25  26  27  28  29  30  31  32]\n",
      " [ 33  34  35  36  37  38  39  40]\n",
      " [ 41  42  43  44  45  46  47  48]\n",
      " [ 49  50  51  52  53  54  55  56]\n",
      " [ 57  58  59  60  61  62  63  64]\n",
      " [ 65  66  67  68  69  70  71  72]\n",
      " [ 73  74  75  76  77  78  79  80]\n",
      " [ 81  82  83  84  85  86  87  88]\n",
      " [ 89  90  91  92  93  94  95  96]\n",
      " [ 97  98  99 100 101 102 103 104]\n",
      " [105 106 107 108 109 110 111 112]\n",
      " [113 114 115 116 117 118 119 120]\n",
      " [121 122 123 124 125 126 127 128]]\n"
     ]
    }
   ],
   "source": [
    "xy = pd.read_csv('reps.csv').values\n",
    "xy = shuffle(xy)\n",
    "train = xy[:,0:-1]\n",
    "label = xy[:,-1]\n",
    "train = train.reshape(-1,16,8)\n",
    "\n",
    "# hyper parameters\n",
    "learning_rate = 0.001\n",
    "training_epochs = 15\n",
    "batch_size = 100\n",
    "# dropout (keep_prob) rate  0.7~0.5 on training, but should be 1 for testing\n",
    "keep_prob = tf.placeholder(tf.float32)\n",
    "\n",
    "# input place holders\n",
    "X = tf.placeholder(tf.float32, [None, 8,16])\n",
    "Y = tf.placeholder(tf.float32, [None, 2])"
   ]
  },
  {
   "cell_type": "code",
   "execution_count": null,
   "metadata": {},
   "outputs": [],
   "source": []
  }
 ],
 "metadata": {
  "kernelspec": {
   "display_name": "Python 3",
   "language": "python",
   "name": "python3"
  },
  "language_info": {
   "codemirror_mode": {
    "name": "ipython",
    "version": 3
   },
   "file_extension": ".py",
   "mimetype": "text/x-python",
   "name": "python",
   "nbconvert_exporter": "python",
   "pygments_lexer": "ipython3",
   "version": "3.6.6"
  }
 },
 "nbformat": 4,
 "nbformat_minor": 2
}
