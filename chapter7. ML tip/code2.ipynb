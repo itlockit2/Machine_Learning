{
 "cells": [
  {
   "cell_type": "code",
   "execution_count": 8,
   "metadata": {},
   "outputs": [],
   "source": [
    "import tensorflow as tf\n",
    "import numpy as np\n",
    "from sklearn.preprocessing import minmax_scale"
   ]
  },
  {
   "cell_type": "code",
   "execution_count": 11,
   "metadata": {},
   "outputs": [],
   "source": [
    "xy = np.array([[828.659973, 833.450012, 908100, 828.349976, 831.659973],\n",
    "               [823.02002, 828.070007, 1828100, 821.655029, 828.070007],\n",
    "               [819.929993, 824.400024, 1438100, 818.97998, 824.159973],\n",
    "               [816, 820.958984, 1008100, 815.48999, 819.23999],\n",
    "               [819.359985, 823, 1188100, 818.469971, 818.97998],\n",
    "               [819, 823, 1198100, 816, 820.450012],\n",
    "               [811.700012, 815.25, 1098100, 809.780029, 813.669983],\n",
    "               [809.51001, 816.659973, 1398100, 804.539978, 809.559998]])\n",
    "\n",
    "xy = minmax_scale(xy)\n",
    "\n",
    "x_data = xy[:, 0:-1]\n",
    "y_data = xy[:, [-1]]\n",
    "\n",
    "\n",
    "# Evaluation our model using this test dataset\n",
    "x_test = [[2, 1, 1],\n",
    "          [3, 1, 2],\n",
    "          [3, 3, 4]]\n",
    "y_test = [[0, 0, 1],\n",
    "          [0, 0, 1],\n",
    "          [0, 0, 1]]"
   ]
  },
  {
   "cell_type": "code",
   "execution_count": 13,
   "metadata": {},
   "outputs": [],
   "source": [
    "X = tf.placeholder(\"float\", [None,3])\n",
    "Y = tf.placeholder(\"float\", [None,3])\n",
    "W = tf.Variable(tf.random_normal([3,3]))\n",
    "b = tf.Variable(tf.random_normal([3]))\n",
    "\n",
    "hypothesis = tf.nn.softmax(tf.matmul(X,W)+b)\n",
    "cost = tf.reduce_mean(-tf.reduce_sum(Y * tf.log(hypothesis), axis=1))\n",
    "optimizer = tf.train.GradientDescentOptimizer(learning_rate=0.1).minimize(cost)\n",
    "\n",
    "# Correct prediction Test model\n",
    "prediction = tf.arg_max(hypothesis,1)\n",
    "is_correct = tf.equal(prediction, tf.arg_max(Y,1))\n",
    "accuracy = tf.reduce_mean(tf.cast(is_correct, tf.float32))"
   ]
  },
  {
   "cell_type": "code",
   "execution_count": 18,
   "metadata": {},
   "outputs": [
    {
     "name": "stdout",
     "output_type": "stream",
     "text": [
      "0 1.3650421 [[-0.5438438   0.50888896 -0.33293515]\n",
      " [ 0.28000972  0.8548342   1.0188463 ]\n",
      " [ 0.02279645 -0.41651723 -0.9354105 ]]\n",
      "200 0.6044376 [[-1.9236299   0.42281944  1.1329209 ]\n",
      " [ 0.8574761   0.6639502   0.6322644 ]\n",
      " [-0.07161427 -0.1951248  -1.0623916 ]]\n",
      "400 0.50220156 [[-2.64455     0.496005    1.7806568 ]\n",
      " [ 0.8738082   0.7049463   0.5749369 ]\n",
      " [ 0.1911174  -0.23526621 -1.2849813 ]]\n",
      "600 0.442444 [[-3.2130396   0.5948615   2.250288  ]\n",
      " [ 0.8716416   0.7247576   0.5572923 ]\n",
      " [ 0.40930873 -0.27316096 -1.4652773 ]]\n",
      "800 0.4001006 [[-3.6952393   0.6877793   2.639571  ]\n",
      " [ 0.868429    0.7370053   0.54825705]\n",
      " [ 0.5945702  -0.3055559  -1.618144  ]]\n",
      "1000 0.3677435 [[-4.11697     0.76905984  2.9800189 ]\n",
      " [ 0.8659597   0.74537814  0.5423543 ]\n",
      " [ 0.75598794 -0.33227557 -1.7528418 ]]\n",
      "1200 0.34188208 [[-4.4930882   0.83878285  3.2864156 ]\n",
      " [ 0.86423314  0.7514003   0.53805876]\n",
      " [ 0.8995154  -0.35405552 -1.8745883 ]]\n",
      "1400 0.32054105 [[-4.8334684   0.8983309   3.5672483 ]\n",
      " [ 0.8630421   0.75585973  0.5347913 ]\n",
      " [ 1.0291886  -0.3717283  -1.9865881 ]]\n",
      "1600 0.3024925 [[-5.1450996   0.9492248   3.8279858 ]\n",
      " [ 0.8622111   0.7592216   0.53226095]\n",
      " [ 1.1478405  -0.38602245 -2.0909457 ]]\n",
      "1800 0.2869271 [[-5.433125    0.9928272   4.0724087 ]\n",
      " [ 0.8616195   0.76178503  0.53029007]\n",
      " [ 1.2575243  -0.3975348  -2.1891165 ]]\n",
      "2000 0.27328843 [[-5.7014284   1.0302888   4.303249  ]\n",
      " [ 0.8611875   0.7637529   0.52875507]\n",
      " [ 1.3597653  -0.40674812 -2.2821445 ]]\n",
      "Prediction :  [2 2 2]\n",
      "Accuracy :  1.0\n"
     ]
    }
   ],
   "source": [
    "# Launch graph\n",
    "with tf.Session() as sess:\n",
    "    # Initialize TensorFlow variables\n",
    "    sess.run(tf.global_variables_initializer())\n",
    "    for step in range(2001):\n",
    "        cost_val, W_val, _ = sess.run([cost, W, optimizer], feed_dict={X: x_data, Y: y_data})\n",
    "        if step% 200 == 0:\n",
    "            print(step, cost_val, W_val)\n",
    "    # predict\n",
    "    print(\"Prediction : \", sess.run(prediction, feed_dict={X: x_test}))\n",
    "    # Calculate the accuracy\n",
    "    print(\"Accuracy : \", sess.run(accuracy, feed_dict={X: x_test, Y: y_test}))"
   ]
  },
  {
   "cell_type": "code",
   "execution_count": null,
   "metadata": {},
   "outputs": [],
   "source": []
  }
 ],
 "metadata": {
  "kernelspec": {
   "display_name": "Python 3",
   "language": "python",
   "name": "python3"
  },
  "language_info": {
   "codemirror_mode": {
    "name": "ipython",
    "version": 3
   },
   "file_extension": ".py",
   "mimetype": "text/x-python",
   "name": "python",
   "nbconvert_exporter": "python",
   "pygments_lexer": "ipython3",
   "version": "3.6.5"
  }
 },
 "nbformat": 4,
 "nbformat_minor": 2
}
